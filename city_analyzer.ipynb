{
 "cells": [
  {
   "cell_type": "markdown",
   "metadata": {},
   "source": [
    "1. Collect the Data"
   ]
  },
  {
   "cell_type": "code",
   "execution_count": 17,
   "metadata": {},
   "outputs": [],
   "source": [
    "import pandas as pd \n",
    "filenames = ['APALACHICOLA.csv',\n",
    "             'ARCADIA.csv',\n",
    "             'ARCHBOLD.csv',\n",
    "             'AVON PARK.csv',\n",
    "             'BARTOW.csv'\n",
    "]\n",
    "def raincatcher():\n",
    "    city_list = []\n",
    "    for filename in filenames:\n",
    "        df = pd.read_csv(filename)\n",
    "        # remove outliers\n",
    "        df = df[df[' precipitation'] >= 0]\n",
    "        rainfall_per_hour = round(df[' precipitation'].mean(),2)\n",
    "        city_list.append((filename[0:-4],rainfall_per_hour))\n",
    "    \n",
    "    return city_list"
   ]
  },
  {
   "cell_type": "code",
   "execution_count": 18,
   "metadata": {},
   "outputs": [
    {
     "data": {
      "text/plain": [
       "[('APALACHICOLA', 0.15),\n",
       " ('ARCADIA', 0.04),\n",
       " ('ARCHBOLD', 0.17),\n",
       " ('AVON PARK', 0.05),\n",
       " ('BARTOW', 0.13)]"
      ]
     },
     "execution_count": 18,
     "metadata": {},
     "output_type": "execute_result"
    }
   ],
   "source": [
    "raincatcher()"
   ]
  }
 ],
 "metadata": {
  "kernelspec": {
   "display_name": "Python 3",
   "language": "python",
   "name": "python3"
  },
  "language_info": {
   "codemirror_mode": {
    "name": "ipython",
    "version": 3
   },
   "file_extension": ".py",
   "mimetype": "text/x-python",
   "name": "python",
   "nbconvert_exporter": "python",
   "pygments_lexer": "ipython3",
   "version": "3.12.4"
  }
 },
 "nbformat": 4,
 "nbformat_minor": 2
}
